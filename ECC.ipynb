{
 "cells": [
  {
   "cell_type": "code",
   "execution_count": 1,
   "metadata": {},
   "outputs": [],
   "source": [
    "# Load các hàm cần thiết\n",
    "import function\n",
    "import random"
   ]
  },
  {
   "cell_type": "code",
   "execution_count": 2,
   "metadata": {},
   "outputs": [],
   "source": [
    "# Khởi tạo các tham số của thuật toán\n",
    "p = 6277101735386680763835789423207666416083908700390324961279\n",
    "n_point = 6277101735386680763835789423176059013767194773182842284081\n",
    "a = 6277101735386680763835789423207666416083908700390324961276\n",
    "b = 2455155546008943817740293915197451784769108058161191238065\n",
    "P = [602046282375688656758213480587526111916698976636884684818, 174050332293622031404857552280219410364023488927386650641]\n",
    "m = random.randint(0, p)\n",
    "# print(m)\n",
    "B = function.mul_k_point(P, m, 0, a, p)\n",
    "# print(B)"
   ]
  },
  {
   "cell_type": "code",
   "execution_count": 5,
   "metadata": {},
   "outputs": [],
   "source": [
    "# Quá trình mã hóa và giải mã\n",
    "def ECC(x):\n",
    "    while not function.point_in_elliptic(x, a, b, p):\n",
    "        print(\"Bản tin không biểu diễn được thành điểm trên đường cong\")\n",
    "        x = function.hash_map(input())\n",
    "        \n",
    "    abc = function.find_thangdubac2(x, a, b, p)\n",
    "    M = [x, abc]\n",
    "    # print(M)\n",
    "    k = random.randint(0, p)\n",
    "    # print(k)\n",
    "    M1 = function.mul_k_point(P, k, 0, a, p)\n",
    "    kB = function.mul_k_point(B, k, 0, a, p)\n",
    "    # print(kB)\n",
    "    M2 = function.add_point(M, kB, 0, a, p)\n",
    "    print(M1)\n",
    "    print(M2)\n",
    "    mM1 = function.mul_k_point(M1, m, 0, a, p)\n",
    "    MM = function.add_point(M2, function.neg(mM1), 0, a, p)\n",
    "    # print(MM)\n",
    "    print(function.unhash_map(MM[0]), MM[0] == x)"
   ]
  },
  {
   "cell_type": "code",
   "execution_count": 6,
   "metadata": {},
   "outputs": [
    {
     "name": "stdout",
     "output_type": "stream",
     "text": [
      "Bản tin không biểu diễn được thành điểm trên đường cong\n",
      "[5505845250921496697390418070412055912629035414435091466787, 5630942138629813432838119637405638799993269569392363927549]\n",
      "[2273631207183612903084707119151126002427958666209682092903, 3113728709099287862148990382460774317708557999080756789794]\n",
      "TRANDUONGNE True\n"
     ]
    }
   ],
   "source": [
    "ECC(x = function.hash_map(input()))"
   ]
  }
 ],
 "metadata": {
  "kernelspec": {
   "display_name": "base",
   "language": "python",
   "name": "python3"
  },
  "language_info": {
   "codemirror_mode": {
    "name": "ipython",
    "version": 3
   },
   "file_extension": ".py",
   "mimetype": "text/x-python",
   "name": "python",
   "nbconvert_exporter": "python",
   "pygments_lexer": "ipython3",
   "version": "3.12.4"
  }
 },
 "nbformat": 4,
 "nbformat_minor": 2
}
