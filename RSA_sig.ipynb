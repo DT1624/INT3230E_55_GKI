{
 "cells": [
  {
   "cell_type": "code",
   "execution_count": 1,
   "metadata": {},
   "outputs": [],
   "source": [
    "# Các thư viện cần thiết\n",
    "import function\n",
    "import random"
   ]
  },
  {
   "cell_type": "code",
   "execution_count": 2,
   "metadata": {},
   "outputs": [],
   "source": [
    "# Định nghĩa lớp RSA_signature\n",
    "class RSA_sig:\n",
    "    def __init__(self, p, q, a):\n",
    "        self.p = p\n",
    "        self.q = q\n",
    "        self.__a = a\n",
    "        self.n = p*q\n",
    "        self.phi = (p-1)*(q-1)\n",
    "        self.b = function.nghichdao(a, self.phi)\n",
    "    \n",
    "    # Khóa bí mật\n",
    "    def private_key(self):\n",
    "        return (self.p, self.q, self.__a)\n",
    "    \n",
    "    # Khóa công khai\n",
    "    def public_key(self):\n",
    "        return (self.n, self.b)\n",
    "    \n",
    "    # Chữ ký   \n",
    "    def sig(self, txt):\n",
    "        m = function.hash_map(txt)\n",
    "        return function.pow_mod(m, self.__a, self.n)\n",
    "    \n",
    "    # Kiểm thử chữ ký\n",
    "    def ver(self, x, y):\n",
    "        n, b = self.public_key()\n",
    "        return function.hash_map(x) == function.pow_mod(y, b, n)\n",
    "        "
   ]
  },
  {
   "cell_type": "code",
   "execution_count": 3,
   "metadata": {},
   "outputs": [],
   "source": [
    "# Khởi tạo trước các tham số \n",
    "# p và q 2048 bit, a là 4096 bit\n",
    "p = 3558336195315926498676188074217283850159379350736609727716603200700758012390067592766302167642980718500833056173919851582033010703941637981593867762988942658977836060538238199872939229804807870309301048024927047873280615822435980508950543530809131397540932579271985307126020252735683723951807652898640766293240610111682996705609051531499240593162636852879628272000702248068385340265232812568403288651352982989225841701347528876403805108814317190046726850252741140565264687930590224927956414695915636050257631168870337537031403516081045210156328445019487829733512622320968229381199316185781394160105548677483270848646343\n",
    "q = 1538356776408139732309176216967985663752717510830329182179480568388390547617771029817322220875412019606124271552249820809167693275952578104629677529096537387756003789384327412500052558445137648845588463122555832163757138691298033635783918655943102563864624302240055793543287438613143997335113844290214365364810716593825120967588953539173621596453621456016776796079893468351144550994992004028115437840863536925713554601961147310637543958347690392851476374452750856307549664793131483987588218382746704276547485061082276919712605441928049591517759992738736890237012514960799076224635928197578547229903375711305335451224803\n",
    "a = random.randint(0, p * q)\n",
    "while function.gcd(a, (p-1) * (q-1)) != 1:\n",
    "    a = random.randint(0, p*q)"
   ]
  },
  {
   "cell_type": "code",
   "execution_count": 4,
   "metadata": {},
   "outputs": [],
   "source": [
    "# Bản thử nghiệm\n",
    "rsa_sig = RSA_sig(p, q, a)\n",
    "m = input() # Nhập bản tin ở đây\n",
    "y = rsa_sig.sig(m)\n",
    "with open(\"RSA_sig.txt\", \"w\") as file:\n",
    "    file.write(\"Khóa công khai (n, b) = \" + str(rsa_sig.public_key()) + \"\\n\")\n",
    "    file.write(\"Khóa bí mật (p, q, a) = \" + str(rsa_sig.private_key()) + \"\\n\")\n",
    "    file.write(\"Bản rõ m = \" + str(m) +\"\\n\")\n",
    "    file.write(\"Bản rõ sau khi băm x = \" + str(function.hash_map(m)) +\"\\n\")\n",
    "    file.write(\"Bản chữ ký y = \" + str(y) + \"\\n\")\n",
    "    file.write(\"Việc kiểm thử giữa bản tin m và chữ ký y là \" + str(\"thành công\" if rsa_sig.ver(m, y) else \"thất bại\") + \"\\n\")"
   ]
  }
 ],
 "metadata": {
  "kernelspec": {
   "display_name": "base",
   "language": "python",
   "name": "python3"
  },
  "language_info": {
   "codemirror_mode": {
    "name": "ipython",
    "version": 3
   },
   "file_extension": ".py",
   "mimetype": "text/x-python",
   "name": "python",
   "nbconvert_exporter": "python",
   "pygments_lexer": "ipython3",
   "version": "3.12.4"
  }
 },
 "nbformat": 4,
 "nbformat_minor": 2
}
