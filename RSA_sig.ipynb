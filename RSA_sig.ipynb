{
 "cells": [
  {
   "cell_type": "code",
   "execution_count": 1,
   "metadata": {},
   "outputs": [],
   "source": [
    "# Các thư viện cần thiết\n",
    "import function\n",
    "import random"
   ]
  },
  {
   "cell_type": "code",
   "execution_count": 2,
   "metadata": {},
   "outputs": [],
   "source": [
    "# Định nghĩa lớp RSA_signature\n",
    "class RSA_sig:\n",
    "    def __init__(self, p, q, a):\n",
    "        self.p = p\n",
    "        self.q = q\n",
    "        self.__a = a\n",
    "        self.n = p*q\n",
    "        self.phi = (p-1)*(q-1)\n",
    "        self.b = function.nghichdao(a, self.phi)\n",
    "    \n",
    "    # Khóa bí mật\n",
    "    def private_key(self):\n",
    "        return (self.p, self.q, self.__a)\n",
    "    \n",
    "    # Khóa công khai\n",
    "    def public_key(self):\n",
    "        return (self.n, self.b)\n",
    "    \n",
    "    # Chữ ký   \n",
    "    def sig(self, txt):\n",
    "        m = function.hash_map(txt)\n",
    "        return function.pow_mod(m, self.__a, self.n)\n",
    "    \n",
    "    # Kiểm thử chữ ký\n",
    "    def ver(self, x, y):\n",
    "        n, b = self.public_key()\n",
    "        return function.hash_map(x) == function.pow_mod(y, b, n)\n",
    "        "
   ]
  },
  {
   "cell_type": "code",
   "execution_count": 3,
   "metadata": {},
   "outputs": [],
   "source": [
    "# Khởi tạo trước các tham số \n",
    "p = 167869126061398270237008218762181184793437016254173860197593935822012683381146031682359158590285094109892299644428909330971343922081444059457688213989223120943022121057585561986426782968552505820875368455870428212919744100909426607061536962766015819057223942596067076460202132108705032513183000426088908254557\n",
    "q = 165806962756597066409116523669804099433292645953513368108775448683987486995575384630229545103348591774238559806704887445592296381975364433576509850662417264169038100298120758568041703893356399336745153981595763251656282765643739254371331639940243982834527501995745992164794980391787326562298644393902671516297\n",
    "a = random.randint(0, p * q)\n",
    "while function.gcd(a, (p-1) * (q-1)) != 1:\n",
    "    a = random.randint(0, p*q)"
   ]
  },
  {
   "cell_type": "code",
   "execution_count": 4,
   "metadata": {},
   "outputs": [],
   "source": [
    "# Bản thử nghiệm\n",
    "rsa_sig = RSA_sig(p, q, a)\n",
    "m = input() # Nhập bản tin ở đây\n",
    "y = rsa_sig.sig(m)\n",
    "with open(\"RSA_sig.txt\", \"w\") as file:\n",
    "    file.write(\"Khóa công khai (n, b) = \" + str(rsa_sig.public_key()) + \"\\n\")\n",
    "    file.write(\"Khóa bí mật (p, q, a) = \" + str(rsa_sig.private_key()) + \"\\n\")\n",
    "    file.write(\"Bản rõ m = \" + str(m) +\"\\n\")\n",
    "    file.write(\"Bản rõ sau khi băm x = \" + str(function.hash_map(m)) +\"\\n\")\n",
    "    file.write(\"Bản chữ ký y = \" + str(y) + \"\\n\")\n",
    "    file.write(\"Việc kiểm thử giữa bản tin m và chữ ký y là \" + str(rsa_sig.ver(m, y)) + \"\\n\")"
   ]
  }
 ],
 "metadata": {
  "kernelspec": {
   "display_name": "base",
   "language": "python",
   "name": "python3"
  },
  "language_info": {
   "codemirror_mode": {
    "name": "ipython",
    "version": 3
   },
   "file_extension": ".py",
   "mimetype": "text/x-python",
   "name": "python",
   "nbconvert_exporter": "python",
   "pygments_lexer": "ipython3",
   "version": "3.12.4"
  }
 },
 "nbformat": 4,
 "nbformat_minor": 2
}
