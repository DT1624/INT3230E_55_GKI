{
 "cells": [
  {
   "cell_type": "code",
   "execution_count": 29,
   "metadata": {},
   "outputs": [],
   "source": [
    "# Các thư viện cần thiết\n",
    "import function\n",
    "import random"
   ]
  },
  {
   "cell_type": "code",
   "execution_count": 30,
   "metadata": {},
   "outputs": [],
   "source": [
    "# Định nghĩa lớp ELGamal_signature\n",
    "class ElGamal_sig:\n",
    "    def __init__(self, p, alpha, a):\n",
    "        self.p = p\n",
    "        self.alpha = alpha\n",
    "        self.__a = a\n",
    "        self.beta = function.pow_mod(alpha, a, p)\n",
    "        \n",
    "    # Khóa bí mật\n",
    "    def private_key(self):\n",
    "        return (self.__a)\n",
    "    \n",
    "    # Khóa công khai\n",
    "    def public_key(self):\n",
    "        return (self.p, self.alpha, self.beta)\n",
    "    \n",
    "    def sig(self, txt):\n",
    "        a = self.private_key()\n",
    "        m = function.hash_map(txt)\n",
    "        k = random.randint(0, self.p - 1)\n",
    "        while function.gcd(k, self.p-1) != 1:\n",
    "            k = random.randint(0, self.p-1)\n",
    "        # print(\"k = \", k)\n",
    "        gamma = function.pow_mod(self.alpha, k, self.p)\n",
    "        sigma = (m - a * gamma) * function.nghichdao(k, self.p - 1)\n",
    "        sigma %= (self.p-1)\n",
    "        return (gamma, sigma)\n",
    "    \n",
    "    def ver(self, x, gamma, sigma):\n",
    "        p, alpha, beta = self.public_key()\n",
    "        m = function.hash_map(x)\n",
    "        VP = function.pow_mod(alpha, m, p)\n",
    "        VT = function.pow_mod(beta, gamma, p) * function.pow_mod(gamma, sigma, p) % p\n",
    "        return VT == VP"
   ]
  },
  {
   "cell_type": "code",
   "execution_count": 31,
   "metadata": {},
   "outputs": [],
   "source": [
    "p = 349807386892058533915515363457928051514180788436802285910570380790488126679184469628225888033626224706147663263751784843940096975690873283486035750552239091455646450051043286159622583158450573299816111386823178878110803084442735221456048333620723003724003446709225845336738902568594581075399035001832607742103\n",
    "alpha = 2\n",
    "a = random.randint(0, p)\n",
    "while function.gcd(a, p) != 1:\n",
    "    a = random.randint(0, p) "
   ]
  },
  {
   "cell_type": "code",
   "execution_count": 35,
   "metadata": {},
   "outputs": [],
   "source": [
    "elgamal_sig = ElGamal_sig(p, alpha, a)\n",
    "m = input()\n",
    "gamma, sigma = elgamal_sig.sig(m)\n",
    "with open(\"ElGamal_sig.txt\", \"w\") as file:\n",
    "    file.write(\"Khóa công khai (p, alpha, beta) = \" + str(elgamal_sig.public_key()) + \"\\n\")\n",
    "    file.write(\"Khóa bí mật (a) = \" + str(elgamal_sig.private_key()) + \"\\n\")\n",
    "    file.write(\"Bản rõ m = \" + str(m) +\"\\n\")\n",
    "    file.write(\"Bản rõ sau khi băm x = \" + str(function.hash_map(m)) +\"\\n\")\n",
    "    file.write(\"Bản chữ ký (gamma, sigma) = \" + str(gamma) + \",\\n\" + str(sigma) + \"\\n\")\n",
    "    file.write(\"Việc kiểm thử giữa bản tin m và chữ ký (gamma, sigma) là \" + str(elgamal_sig.ver(m, gamma, sigma)) + \"\\n\")"
   ]
  }
 ],
 "metadata": {
  "kernelspec": {
   "display_name": "base",
   "language": "python",
   "name": "python3"
  },
  "language_info": {
   "codemirror_mode": {
    "name": "ipython",
    "version": 3
   },
   "file_extension": ".py",
   "mimetype": "text/x-python",
   "name": "python",
   "nbconvert_exporter": "python",
   "pygments_lexer": "ipython3",
   "version": "3.12.4"
  }
 },
 "nbformat": 4,
 "nbformat_minor": 2
}
