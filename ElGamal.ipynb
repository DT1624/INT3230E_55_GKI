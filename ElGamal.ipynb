{
 "cells": [
  {
   "cell_type": "code",
   "execution_count": 1,
   "metadata": {},
   "outputs": [],
   "source": [
    "import function\n",
    "import random"
   ]
  },
  {
   "cell_type": "code",
   "execution_count": 2,
   "metadata": {},
   "outputs": [],
   "source": [
    "# Định nghĩa lớp ELGamal\n",
    "class ElGamal:\n",
    "    def __init__(self, p, alpha, a):\n",
    "        self.p = p\n",
    "        self.alpha = alpha\n",
    "        self.__a = a\n",
    "        self.beta = function.pow_mod(alpha, a, p)\n",
    "        \n",
    "    # Khóa bí mật\n",
    "    def private_key(self):\n",
    "        return (self.__a)\n",
    "    \n",
    "    # Khóa công khai\n",
    "    def public_key(self):\n",
    "        return (self.p, self.alpha, self.beta)\n",
    "    \n",
    "    # Mã hóa\n",
    "    def encrypt(self, txt):\n",
    "        p, alpha, beta = self.public_key()\n",
    "        m = function.hash_map(txt)\n",
    "        k = random.randint(0, self.p - 1)\n",
    "        y1 = function.pow_mod(alpha, k, p)\n",
    "        y2 = m * function.pow_mod(beta, k, p) % p\n",
    "        return (y1, y2)\n",
    "    \n",
    "    # Giải mã\n",
    "    def decrypt(self, y1, y2):\n",
    "        a = self.private_key()\n",
    "        y1 = function.pow_mod(y1, self.p - 1 - a, self.p)\n",
    "        return y1 * y2 % self.p"
   ]
  },
  {
   "cell_type": "code",
   "execution_count": 3,
   "metadata": {},
   "outputs": [],
   "source": [
    "# Khởi tạo trước các tham số \n",
    "# p là số 1024 bit\n",
    "p = 76845003044794536074339659305878857461079573847700583991870893182480014210131054177468909348054473709147625596034318296488274243490315457311363415674136180655141984587704964326446766830222039513409868481015835270115854297552564160969370315635720716919210812609866884917376474714878609831094390410686288105187\n",
    "alpha = 2\n",
    "a = random.randint(0, p)\n",
    "while function.gcd(a, p) != 1:\n",
    "    a = random.randint(0, p) "
   ]
  },
  {
   "cell_type": "code",
   "execution_count": 4,
   "metadata": {},
   "outputs": [],
   "source": [
    "# Bản thử nghiệm\n",
    "elgamal = ElGamal(p, alpha, a)\n",
    "m = input()\n",
    "y1, y2 = elgamal.encrypt(m)\n",
    "with open(\"ElGamal.txt\", \"w\") as file:\n",
    "    file.write(\"Khóa công khai (p, alpha, beta) = \" + str(elgamal.public_key()) + \"\\n\")\n",
    "    file.write(\"Khóa bí mật (a) = \" + str(elgamal.private_key()) + \"\\n\")\n",
    "    file.write(\"Bản rõ m = \" + str(m) +\"\\n\")\n",
    "    file.write(\"Bản rõ sau khi băm x = \" + str(function.hash_map(m)) +\"\\n\")\n",
    "    file.write(\"Bản mã (y1, y2) = \" + str(y1) + \",\\n\" + str(y2) + \"\\n\")\n",
    "    xx = elgamal.decrypt(y1, y2)\n",
    "    mm = function.unhash_map(xx)\n",
    "    file.write(\"Bản tin thu được sau khi giải mã = \" + str(xx) + \"\\n\")\n",
    "    file.write(\"Bản rõ thu được sau khi giải mã = \" + str(mm) + \"\\n\")\n",
    "    file.write(\"Việc mã hóa và giải mã \" + (\"thành công\" if mm == m else \"thất bại\" + \"\\n\"))"
   ]
  }
 ],
 "metadata": {
  "kernelspec": {
   "display_name": "base",
   "language": "python",
   "name": "python3"
  },
  "language_info": {
   "codemirror_mode": {
    "name": "ipython",
    "version": 3
   },
   "file_extension": ".py",
   "mimetype": "text/x-python",
   "name": "python",
   "nbconvert_exporter": "python",
   "pygments_lexer": "ipython3",
   "version": "3.12.4"
  }
 },
 "nbformat": 4,
 "nbformat_minor": 2
}
