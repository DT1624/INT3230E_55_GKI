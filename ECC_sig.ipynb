{
 "cells": [
  {
   "cell_type": "code",
   "execution_count": 1,
   "metadata": {},
   "outputs": [],
   "source": [
    "# Load các hàm cần thiết\n",
    "import function\n",
    "import random"
   ]
  },
  {
   "cell_type": "code",
   "execution_count": 2,
   "metadata": {},
   "outputs": [],
   "source": [
    "# Định nghĩa lớp ECC\n",
    "class ECC_sig:\n",
    "    def __init__(self, a, b, p, P, s, n):\n",
    "        self.a = a\n",
    "        self.b = b\n",
    "        self.p = p\n",
    "        self.P = P\n",
    "        self.__s = s\n",
    "        self.n = n\n",
    "        self.B = function.mul_k_point(P, s, 0, a, p)\n",
    "      \n",
    "    # Khóa công khai\n",
    "    def public_key(self):\n",
    "        return (self.a, self.b, self.p, self.P, self.B, self.n)\n",
    "    \n",
    "    # Khóa bí mật  \n",
    "    def private_key(self):\n",
    "        return self.__s\n",
    "    \n",
    "    # Chữ ký\n",
    "    def sig(self, txt):\n",
    "        d = self.private_key()\n",
    "        m = function.hash_map(txt)\n",
    "        k = random.randint(1, self.n)\n",
    "        T = function.mul_k_point(self.P, k, 0, self.a, self.p)\n",
    "        r = T[0] % self.n\n",
    "        s = (m + d * r) * function.nghichdao(k, self.n) % self.n\n",
    "        return (r, s)\n",
    "    \n",
    "    # Kiểm thử chữ ký\n",
    "    def ver(self, x, r, s):\n",
    "        a, b, p, P, B, n = self.public_key()\n",
    "        m = function.hash_map(x)\n",
    "        w = function.nghichdao(s, n)\n",
    "        u1 = m * w % n\n",
    "        u2 = r * w % n\n",
    "        u1P = function.mul_k_point(P, u1, 0, a, p)\n",
    "        u2B = function.mul_k_point(B, u2, 0, a, p)\n",
    "        T = function.add_point(u1P, u2B, 0, a, p)\n",
    "        return T[0] % n == r"
   ]
  },
  {
   "cell_type": "code",
   "execution_count": 3,
   "metadata": {},
   "outputs": [],
   "source": [
    "# Khởi tạo các tham số của thuật toán\n",
    "# p là số 192 bit\n",
    "p = 6277101735386680763835789423207666416083908700390324961279\n",
    "n_point = 6277101735386680763835789423176059013767194773182842284081\n",
    "a = 6277101735386680763835789423207666416083908700390324961276\n",
    "b = 2455155546008943817740293915197451784769108058161191238065\n",
    "P = [602046282375688656758213480587526111916698976636884684818, 174050332293622031404857552280219410364023488927386650641]\n",
    "s = random.randint(1, n_point)\n",
    "while function.mul_k_point(P, s, 0, a, p) == [0, 0]:\n",
    "    s = random.randint(0, n_point)"
   ]
  },
  {
   "cell_type": "code",
   "execution_count": 4,
   "metadata": {},
   "outputs": [],
   "source": [
    "# Khởi tạo ECC với các tham số a, b, p, P, và s\n",
    "ecc_sig = ECC_sig(a, b, p, P, s, n_point)\n",
    "\n",
    "# Nhập thông điệp\n",
    "m = input(\"Nhập thông điệp: \")\n",
    "\n",
    "# Kiểm tra xem thông điệp đã được băm có thuộc đường cong elliptic không\n",
    "while not function.point_in_elliptic(function.hash_map(m), a, b, p):\n",
    "    print(\"Thông điệp không hợp lệ trên đường cong elliptic!\")\n",
    "    m = input(\"Nhập thông điệp: \")\n",
    "\n",
    "# Mã hóa thông điệp\n",
    "r, s = ecc_sig.sig(m)\n",
    "\n",
    "# Ghi thông tin vào file ECC.txt\n",
    "with open(\"ECC_sig.txt\", \"w\") as file:\n",
    "    file.write(\"Khóa công khai (a, b, p, P, B, n) = \" + str(ecc_sig.public_key()) + \"\\n\")\n",
    "    file.write(\"Khóa bí mật (s) = \" + str(ecc_sig.private_key()) + \"\\n\")\n",
    "    file.write(\"Bản rõ m = \" + str(m) + \"\\n\")\n",
    "    file.write(\"Bản rõ sau khi băm x = \" + str(function.hash_map(m)) + \"\\n\")\n",
    "    file.write(\"Bản chữ ký (r, s)= \" + str(r) + \",\\n\" + str(s) + \"\\n\")\n",
    "\n",
    "    file.write(\"Việc kiểm thử giữa bản tin m và chữ ký (r, s) \" + (\"thành công\\n\" if ecc_sig.ver(m, r, s) else \"thất bại\\n\"))\n",
    "\n"
   ]
  }
 ],
 "metadata": {
  "kernelspec": {
   "display_name": "base",
   "language": "python",
   "name": "python3"
  },
  "language_info": {
   "codemirror_mode": {
    "name": "ipython",
    "version": 3
   },
   "file_extension": ".py",
   "mimetype": "text/x-python",
   "name": "python",
   "nbconvert_exporter": "python",
   "pygments_lexer": "ipython3",
   "version": "3.12.4"
  }
 },
 "nbformat": 4,
 "nbformat_minor": 2
}
