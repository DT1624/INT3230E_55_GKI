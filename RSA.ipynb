{
 "cells": [
  {
   "cell_type": "code",
   "execution_count": 1,
   "metadata": {},
   "outputs": [],
   "source": [
    "# Các thư viện cần thiết\n",
    "import function\n",
    "import random"
   ]
  },
  {
   "cell_type": "code",
   "execution_count": null,
   "metadata": {},
   "outputs": [],
   "source": [
    "# Định nghĩa lớp RSA\n",
    "class RSA:\n",
    "    def __init__(self, p, q, e):\n",
    "        self.p = p\n",
    "        self.q = q\n",
    "        self.e = e\n",
    "        self.n = p*q\n",
    "        self.phi = (p-1)*(q-1)\n",
    "        self.__d = function.nghichdao(e, self.phi)\n",
    "    \n",
    "    # Khóa bí mật\n",
    "    def private_key(self):\n",
    "        return (self.p, self.q, self.__d)\n",
    "    \n",
    "    # Khóa công khai\n",
    "    def public_key(self):\n",
    "        return (self.n, self.e)\n",
    "    \n",
    "    # Mã hóa\n",
    "    def encrypt(self, txt):\n",
    "        n, e = self.public_key()\n",
    "        m = function.hash_map(txt)\n",
    "        return function.pow_mod(m, e, n)\n",
    "    \n",
    "    # Giải mã\n",
    "    def decrypt(self, y):\n",
    "        return function.pow_mod(y, self.__d, self.n)\n",
    "    "
   ]
  },
  {
   "cell_type": "code",
   "execution_count": 3,
   "metadata": {},
   "outputs": [],
   "source": [
    "# Khởi tạo trước các tham số \n",
    "# p và q 2048 bit, a là 4096 bit\n",
    "p = 40591264679654555960262649249363641874668622898935152484845392363370464519351762323184491475130547305765362641324936711937340337591577046233087920556070627031630479066006203101987744172458585884507518846863347650747289322702047512084503232486526591695856743522372961419451240972766701767925279761182388395614104177570720054804400237093961396082268273338474105129873714097476412745974341633150449758154099498547431089116537851357772106449805060619770826517275790933920490864696468545580635839411114601852617504097420287071357816084873140090964054152558791931152811819321525413230756415675584879416719178238260889862401\n",
    "q = 48984164228208610013077429594021665582513487945458646422843147833019295405581903955665259089747134699399934530867635530310171219470426716159406064965430745264622576759883143418728823361905178744181569902225419193312451194856160438085711619547397956947287129921634468220518717374672195907409316237990917510635631825702180425616491147895651798138070017844154718116029849029962315823269053699874453140610240256519252923573524122485208942439188905734397740788608901548054196681796641772702299654434872481096260218897106026206503204334237049455961290357705318438537682502822654210262643658121731195088350227538962554764607\n",
    "e = random.randint(0, p * q)\n",
    "while function.gcd(e, (p-1) * (q-1)) != 1:\n",
    "    e = random.randint(0, p*q)"
   ]
  },
  {
   "cell_type": "code",
   "execution_count": null,
   "metadata": {},
   "outputs": [],
   "source": [
    "# Bản thử nghiệm\n",
    "rsa = RSA(p, q, e)\n",
    "m = input() # Nhập bản tin ở đây\n",
    "y = rsa.encrypt(m)\n",
    "with open(\"RSA.txt\", \"w\") as file:\n",
    "    file.write(\"Khóa công khai (n, e) = \" + str(rsa.public_key()) + \"\\n\")\n",
    "    file.write(\"Khóa bí mật (p, q, d) = \" + str(rsa.private_key()) + \"\\n\")\n",
    "    file.write(\"Bản rõ m = \" + str(m) +\"\\n\")\n",
    "    file.write(\"Bản rõ sau khi băm x = \" + str(function.hash_map(m)) +\"\\n\")\n",
    "    file.write(\"Bản mã y = \" + str(y) + \"\\n\")\n",
    "    xx = rsa.decrypt(y)\n",
    "    mm = function.unhash_map(xx)\n",
    "    file.write(\"Bản tin thu được sau khi giải mã = \" + str(xx) + \"\\n\")\n",
    "    file.write(\"Bản rõ thu được sau khi giải mã = \" + str(mm) + \"\\n\")\n",
    "    file.write(\"Việc mã hóa và giải mã \" + (\"thành công\" if mm == m else \"thất bại\" + \"\\n\"))"
   ]
  }
 ],
 "metadata": {
  "kernelspec": {
   "display_name": "base",
   "language": "python",
   "name": "python3"
  },
  "language_info": {
   "codemirror_mode": {
    "name": "ipython",
    "version": 3
   },
   "file_extension": ".py",
   "mimetype": "text/x-python",
   "name": "python",
   "nbconvert_exporter": "python",
   "pygments_lexer": "ipython3",
   "version": "3.12.4"
  }
 },
 "nbformat": 4,
 "nbformat_minor": 2
}
